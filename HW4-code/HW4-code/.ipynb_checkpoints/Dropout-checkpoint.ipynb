{
 "cells": [
  {
   "cell_type": "markdown",
   "metadata": {},
   "source": [
    "# Dropout\n",
    "\n",
    "In this notebook, you will implement dropout.  Then we will ask you to train a network with batchnorm and dropout, and acheive over 55% accuracy on CIFAR-10.\n",
    "\n",
    "CS231n has built a solid API for building these modular frameworks and training them, and we will use their very well implemented framework as opposed to \"reinventing the wheel.\"  This includes using their Solver, various utility functions, and their layer structure.  This also includes nndl.fc_net, nndl.layers, and nndl.layer_utils.  As in prior assignments, we thank Serena Yeung & Justin Johnson for permission to use code written for the CS 231n class (cs231n.stanford.edu).  "
   ]
  },
  {
   "cell_type": "code",
   "execution_count": 1,
   "metadata": {},
   "outputs": [],
   "source": [
    "## Import and setups\n",
    "\n",
    "import time\n",
    "import numpy as np\n",
    "import matplotlib.pyplot as plt\n",
    "from nndl.fc_net import *\n",
    "from nndl.layers import *\n",
    "from cs231n.data_utils import get_CIFAR10_data\n",
    "from cs231n.gradient_check import eval_numerical_gradient, eval_numerical_gradient_array\n",
    "from cs231n.solver import Solver\n",
    "\n",
    "%matplotlib inline\n",
    "plt.rcParams['figure.figsize'] = (10.0, 8.0) # set default size of plots\n",
    "plt.rcParams['image.interpolation'] = 'nearest'\n",
    "plt.rcParams['image.cmap'] = 'gray'\n",
    "\n",
    "# for auto-reloading external modules\n",
    "# see http://stackoverflow.com/questions/1907993/autoreload-of-modules-in-ipython\n",
    "%load_ext autoreload\n",
    "%autoreload 2\n",
    "\n",
    "def rel_error(x, y):\n",
    "    \"\"\" returns relative error \"\"\"\n",
    "    return np.max(np.abs(x - y) / (np.maximum(1e-8, np.abs(x) + np.abs(y))))"
   ]
  },
  {
   "cell_type": "code",
   "execution_count": 2,
   "metadata": {},
   "outputs": [
    {
     "name": "stdout",
     "output_type": "stream",
     "text": [
      "X_train: (49000, 3, 32, 32) \n",
      "y_train: (49000,) \n",
      "X_val: (1000, 3, 32, 32) \n",
      "y_val: (1000,) \n",
      "X_test: (1000, 3, 32, 32) \n",
      "y_test: (1000,) \n"
     ]
    }
   ],
   "source": [
    "# Load the (preprocessed) CIFAR10 data.\n",
    "\n",
    "data = get_CIFAR10_data()\n",
    "for k in data.keys():\n",
    "    print('{}: {} '.format(k, data[k].shape))"
   ]
  },
  {
   "cell_type": "markdown",
   "metadata": {},
   "source": [
    "## Dropout forward pass\n",
    "\n",
    "Implement the training and test time dropout forward pass, `dropout_forward`, in `nndl/layers.py`. After that, test your implementation by running the following cell."
   ]
  },
  {
   "cell_type": "code",
   "execution_count": 3,
   "metadata": {},
   "outputs": [
    {
     "name": "stdout",
     "output_type": "stream",
     "text": [
      "Running tests with p =  0.3\n",
      "Mean of input:  9.997543371838061\n",
      "Mean of train-time output:  9.99068001546249\n",
      "Mean of test-time output:  9.997543371838061\n",
      "Fraction of train-time output set to zero:  0.300588\n",
      "Fraction of test-time output set to zero:  0.0\n",
      "Running tests with p =  0.6\n",
      "Mean of input:  9.997543371838061\n",
      "Mean of train-time output:  9.951918706035858\n",
      "Mean of test-time output:  9.997543371838061\n",
      "Fraction of train-time output set to zero:  0.60184\n",
      "Fraction of test-time output set to zero:  0.0\n",
      "Running tests with p =  0.75\n",
      "Mean of input:  9.997543371838061\n",
      "Mean of train-time output:  10.016241307563895\n",
      "Mean of test-time output:  9.997543371838061\n",
      "Fraction of train-time output set to zero:  0.74962\n",
      "Fraction of test-time output set to zero:  0.0\n"
     ]
    }
   ],
   "source": [
    "x = np.random.randn(500, 500) + 10\n",
    "\n",
    "for p in [0.3, 0.6, 0.75]:\n",
    "    out, _ = dropout_forward(x, {'mode': 'train', 'p': p})\n",
    "    out_test, _ = dropout_forward(x, {'mode': 'test', 'p': p})\n",
    "\n",
    "    print('Running tests with p = ', p)\n",
    "    print('Mean of input: ', x.mean())\n",
    "    print('Mean of train-time output: ', out.mean())\n",
    "    print('Mean of test-time output: ', out_test.mean())\n",
    "    print('Fraction of train-time output set to zero: ', (out == 0).mean())\n",
    "    print('Fraction of test-time output set to zero: ', (out_test == 0).mean())"
   ]
  },
  {
   "cell_type": "markdown",
   "metadata": {},
   "source": [
    "## Dropout backward pass\n",
    "\n",
    "Implement the backward pass, `dropout_backward`, in `nndl/layers.py`.  After that, test your gradients by running the following cell:"
   ]
  },
  {
   "cell_type": "code",
   "execution_count": 4,
   "metadata": {},
   "outputs": [
    {
     "name": "stdout",
     "output_type": "stream",
     "text": [
      "dx relative error:  1.8929088797253644e-11\n"
     ]
    }
   ],
   "source": [
    "x = np.random.randn(10, 10) + 10\n",
    "dout = np.random.randn(*x.shape)\n",
    "\n",
    "dropout_param = {'mode': 'train', 'p': 0.8, 'seed': 123}\n",
    "out, cache = dropout_forward(x, dropout_param)\n",
    "dx = dropout_backward(dout, cache)\n",
    "dx_num = eval_numerical_gradient_array(lambda xx: dropout_forward(xx, dropout_param)[0], x, dout)\n",
    "\n",
    "print('dx relative error: ', rel_error(dx, dx_num))"
   ]
  },
  {
   "cell_type": "markdown",
   "metadata": {},
   "source": [
    "## Implement a fully connected neural network with dropout layers\n",
    "\n",
    "Modify the `FullyConnectedNet()` class in `nndl/fc_net.py` to incorporate dropout.  A dropout layer should be incorporated after every ReLU layer.  Concretely, there shouldn't be a dropout at the output layer since there is no ReLU at the output layer. You will need to modify the class in the following areas:\n",
    "\n",
    "(1) In the forward pass, you will need to incorporate a dropout layer after every relu layer.\n",
    "\n",
    "(2) In the backward pass, you will need to incorporate a dropout backward pass layer.\n",
    "\n",
    "Check your implementation by running the following code.  Our W1 gradient relative error is on the order of 1e-6 (the largest of all the relative errors)."
   ]
  },
  {
   "cell_type": "code",
   "execution_count": 5,
   "metadata": {},
   "outputs": [
    {
     "name": "stdout",
     "output_type": "stream",
     "text": [
      "Running check with dropout =  0.5\n",
      "Initial loss:  2.3130766680585553\n",
      "W1 relative error: 3.521651327461513e-07\n",
      "W2 relative error: 8.67050333013485e-08\n",
      "W3 relative error: 1.7697091527236745e-08\n",
      "b1 relative error: 1.3630944494006748e-09\n",
      "b2 relative error: 3.369320802894315e-10\n",
      "b3 relative error: 1.1749705566445823e-10\n",
      "\n",
      "\n",
      "Running check with dropout =  0.75\n",
      "Initial loss:  2.3021392488536803\n",
      "W1 relative error: 8.48825148891291e-08\n",
      "W2 relative error: 7.320957078668507e-10\n",
      "W3 relative error: 3.1539905478679266e-09\n",
      "b1 relative error: 4.991935528845047e-10\n",
      "b2 relative error: 2.3792592457209184e-10\n",
      "b3 relative error: 1.480081274701072e-10\n",
      "\n",
      "\n",
      "Running check with dropout =  1.0\n",
      "Initial loss:  2.3053332250963194\n",
      "W1 relative error: 1.2744095365229032e-06\n",
      "W2 relative error: 4.678743300473988e-07\n",
      "W3 relative error: 4.331673892536035e-08\n",
      "b1 relative error: 4.0853539035931665e-08\n",
      "b2 relative error: 1.951342257912746e-09\n",
      "b3 relative error: 9.387142701440351e-11\n",
      "\n",
      "\n"
     ]
    }
   ],
   "source": [
    "N, D, H1, H2, C = 2, 15, 20, 30, 10\n",
    "X = np.random.randn(N, D)\n",
    "y = np.random.randint(C, size=(N,))\n",
    "\n",
    "for dropout in [0.5, 0.75, 1.0]:\n",
    "    print('Running check with dropout = ', dropout)\n",
    "    model = FullyConnectedNet([H1, H2], input_dim=D, num_classes=C,\n",
    "                              weight_scale=5e-2, dtype=np.float64,\n",
    "                              dropout=dropout, seed=123)\n",
    "\n",
    "    loss, grads = model.loss(X, y)\n",
    "    print('Initial loss: ', loss)\n",
    "\n",
    "    for name in sorted(grads):\n",
    "        f = lambda _: model.loss(X, y)[0]\n",
    "        grad_num = eval_numerical_gradient(f, model.params[name], verbose=False, h=1e-5)\n",
    "        print('{} relative error: {}'.format(name, rel_error(grad_num, grads[name])))\n",
    "    print('\\n')"
   ]
  },
  {
   "cell_type": "markdown",
   "metadata": {},
   "source": [
    "## Dropout as a regularizer\n",
    "\n",
    "In class, we claimed that dropout acts as a regularizer by effectively bagging.  To check this, we will train two small networks, one with dropout and one without dropout.  "
   ]
  },
  {
   "cell_type": "code",
   "execution_count": 6,
   "metadata": {},
   "outputs": [
    {
     "name": "stdout",
     "output_type": "stream",
     "text": [
      "(Iteration 1 / 125) loss: 2.303100\n",
      "(Epoch 0 / 25) train acc: 0.130000; val_acc: 0.110000\n",
      "(Epoch 1 / 25) train acc: 0.146000; val_acc: 0.123000\n",
      "(Epoch 2 / 25) train acc: 0.154000; val_acc: 0.131000\n",
      "(Epoch 3 / 25) train acc: 0.168000; val_acc: 0.152000\n",
      "(Epoch 4 / 25) train acc: 0.182000; val_acc: 0.154000\n",
      "(Epoch 5 / 25) train acc: 0.182000; val_acc: 0.156000\n",
      "(Epoch 6 / 25) train acc: 0.180000; val_acc: 0.160000\n",
      "(Epoch 7 / 25) train acc: 0.178000; val_acc: 0.152000\n",
      "(Epoch 8 / 25) train acc: 0.178000; val_acc: 0.152000\n",
      "(Epoch 9 / 25) train acc: 0.190000; val_acc: 0.159000\n",
      "(Epoch 10 / 25) train acc: 0.186000; val_acc: 0.161000\n",
      "(Epoch 11 / 25) train acc: 0.196000; val_acc: 0.155000\n",
      "(Epoch 12 / 25) train acc: 0.194000; val_acc: 0.153000\n",
      "(Epoch 13 / 25) train acc: 0.192000; val_acc: 0.158000\n",
      "(Epoch 14 / 25) train acc: 0.192000; val_acc: 0.157000\n",
      "(Epoch 15 / 25) train acc: 0.196000; val_acc: 0.159000\n",
      "(Epoch 16 / 25) train acc: 0.200000; val_acc: 0.160000\n",
      "(Epoch 17 / 25) train acc: 0.202000; val_acc: 0.160000\n",
      "(Epoch 18 / 25) train acc: 0.200000; val_acc: 0.160000\n",
      "(Epoch 19 / 25) train acc: 0.200000; val_acc: 0.161000\n",
      "(Epoch 20 / 25) train acc: 0.204000; val_acc: 0.165000\n",
      "(Iteration 101 / 125) loss: 2.251923\n",
      "(Epoch 21 / 25) train acc: 0.212000; val_acc: 0.165000\n",
      "(Epoch 22 / 25) train acc: 0.218000; val_acc: 0.166000\n",
      "(Epoch 23 / 25) train acc: 0.228000; val_acc: 0.171000\n",
      "(Epoch 24 / 25) train acc: 0.244000; val_acc: 0.177000\n",
      "(Epoch 25 / 25) train acc: 0.242000; val_acc: 0.178000\n",
      "(Iteration 1 / 125) loss: 2.300607\n",
      "(Epoch 0 / 25) train acc: 0.124000; val_acc: 0.139000\n",
      "(Epoch 1 / 25) train acc: 0.160000; val_acc: 0.167000\n",
      "(Epoch 2 / 25) train acc: 0.180000; val_acc: 0.172000\n",
      "(Epoch 3 / 25) train acc: 0.200000; val_acc: 0.189000\n",
      "(Epoch 4 / 25) train acc: 0.222000; val_acc: 0.194000\n",
      "(Epoch 5 / 25) train acc: 0.232000; val_acc: 0.204000\n",
      "(Epoch 6 / 25) train acc: 0.230000; val_acc: 0.204000\n",
      "(Epoch 7 / 25) train acc: 0.220000; val_acc: 0.205000\n",
      "(Epoch 8 / 25) train acc: 0.222000; val_acc: 0.205000\n",
      "(Epoch 9 / 25) train acc: 0.232000; val_acc: 0.216000\n",
      "(Epoch 10 / 25) train acc: 0.250000; val_acc: 0.227000\n",
      "(Epoch 11 / 25) train acc: 0.260000; val_acc: 0.232000\n",
      "(Epoch 12 / 25) train acc: 0.286000; val_acc: 0.238000\n",
      "(Epoch 13 / 25) train acc: 0.296000; val_acc: 0.250000\n",
      "(Epoch 14 / 25) train acc: 0.304000; val_acc: 0.259000\n",
      "(Epoch 15 / 25) train acc: 0.308000; val_acc: 0.262000\n",
      "(Epoch 16 / 25) train acc: 0.318000; val_acc: 0.266000\n",
      "(Epoch 17 / 25) train acc: 0.308000; val_acc: 0.266000\n",
      "(Epoch 18 / 25) train acc: 0.318000; val_acc: 0.269000\n",
      "(Epoch 19 / 25) train acc: 0.324000; val_acc: 0.270000\n",
      "(Epoch 20 / 25) train acc: 0.336000; val_acc: 0.276000\n",
      "(Iteration 101 / 125) loss: 1.753858\n",
      "(Epoch 21 / 25) train acc: 0.364000; val_acc: 0.289000\n",
      "(Epoch 22 / 25) train acc: 0.370000; val_acc: 0.294000\n",
      "(Epoch 23 / 25) train acc: 0.404000; val_acc: 0.303000\n",
      "(Epoch 24 / 25) train acc: 0.416000; val_acc: 0.289000\n",
      "(Epoch 25 / 25) train acc: 0.430000; val_acc: 0.287000\n"
     ]
    }
   ],
   "source": [
    "# Train two identical nets, one with dropout and one without\n",
    "\n",
    "num_train = 500\n",
    "small_data = {\n",
    "    'X_train': data['X_train'][:num_train],\n",
    "    'y_train': data['y_train'][:num_train],\n",
    "    'X_val': data['X_val'],\n",
    "    'y_val': data['y_val'],\n",
    "}\n",
    "\n",
    "solvers = {}\n",
    "dropout_choices = [0.6, 1.0]\n",
    "for dropout in dropout_choices:\n",
    "    model = FullyConnectedNet([100, 100, 100], dropout=dropout)\n",
    "\n",
    "    solver = Solver(model, small_data,\n",
    "                    num_epochs=25, batch_size=100,\n",
    "                    update_rule='adam',\n",
    "                    optim_config={\n",
    "                      'learning_rate': 5e-4,\n",
    "                    },\n",
    "                    verbose=True, print_every=100)\n",
    "    solver.train()\n",
    "    solvers[dropout] = solver"
   ]
  },
  {
   "cell_type": "code",
   "execution_count": 7,
   "metadata": {},
   "outputs": [
    {
     "data": {
      "image/png": "[encoded data removed]",
      "text/plain": [
       "<matplotlib.figure.Figure at 0x7f8fb842d320>"
      ]
     },
     "metadata": {},
     "output_type": "display_data"
    }
   ],
   "source": [
    "# Plot train and validation accuracies of the two models\n",
    "\n",
    "train_accs = []\n",
    "val_accs = []\n",
    "for dropout in dropout_choices:\n",
    "    solver = solvers[dropout]\n",
    "    train_accs.append(solver.train_acc_history[-1])\n",
    "    val_accs.append(solver.val_acc_history[-1])\n",
    "\n",
    "plt.subplot(3, 1, 1)\n",
    "for dropout in dropout_choices:\n",
    "    plt.plot(solvers[dropout].train_acc_history, 'o', label='%.2f dropout' % dropout)\n",
    "plt.title('Train accuracy')\n",
    "plt.xlabel('Epoch')\n",
    "plt.ylabel('Accuracy')\n",
    "plt.legend(ncol=2, loc='lower right')\n",
    "  \n",
    "plt.subplot(3, 1, 2)\n",
    "for dropout in dropout_choices:\n",
    "    plt.plot(solvers[dropout].val_acc_history, 'o', label='%.2f dropout' % dropout)\n",
    "plt.title('Val accuracy')\n",
    "plt.xlabel('Epoch')\n",
    "plt.ylabel('Accuracy')\n",
    "plt.legend(ncol=2, loc='lower right')\n",
    "\n",
    "plt.gcf().set_size_inches(15, 15)\n",
    "plt.show()"
   ]
  },
  {
   "cell_type": "markdown",
   "metadata": {},
   "source": [
    "## Question\n",
    "\n",
    "Based off the results of this experiment, is dropout performing regularization?  Explain your answer."
   ]
  },
  {
   "cell_type": "markdown",
   "metadata": {},
   "source": [
    "## Answer:\n",
    "Yes, it is. As we can see from our experiment result, training with more dropout rate achieves a better result than traning with less dropout rate. That is exactly what regularization is doing."
   ]
  },
  {
   "cell_type": "markdown",
   "metadata": {},
   "source": [
    "##### Final part of the assignment\n",
    "\n",
    "Get over 55% validation accuracy on CIFAR-10 by using the layers you have implemented.  You will be graded according to the following equation:\n",
    "\n",
    "min(floor((X - 32%)) / 23%, 1) \n",
    "where if you get 55% or higher validation accuracy, you get full points."
   ]
  },
  {
   "cell_type": "code",
   "execution_count": 8,
   "metadata": {
    "scrolled": false
   },
   "outputs": [
    {
     "name": "stdout",
     "output_type": "stream",
     "text": [
      "(Iteration 1 / 1175) loss: 2.305102\n",
      "(Epoch 0 / 25) train acc: 0.221000; val_acc: 0.208000\n",
      "(Epoch 1 / 25) train acc: 0.429000; val_acc: 0.408000\n",
      "(Epoch 2 / 25) train acc: 0.445000; val_acc: 0.455000\n",
      "(Epoch 3 / 25) train acc: 0.476000; val_acc: 0.505000\n",
      "(Epoch 4 / 25) train acc: 0.519000; val_acc: 0.508000\n",
      "(Epoch 5 / 25) train acc: 0.545000; val_acc: 0.519000\n",
      "(Epoch 6 / 25) train acc: 0.584000; val_acc: 0.527000\n",
      "(Epoch 7 / 25) train acc: 0.589000; val_acc: 0.535000\n",
      "(Epoch 8 / 25) train acc: 0.594000; val_acc: 0.547000\n",
      "(Epoch 9 / 25) train acc: 0.623000; val_acc: 0.553000\n",
      "(Epoch 10 / 25) train acc: 0.630000; val_acc: 0.549000\n",
      "(Iteration 501 / 1175) loss: 1.158378\n",
      "(Epoch 11 / 25) train acc: 0.647000; val_acc: 0.551000\n",
      "(Epoch 12 / 25) train acc: 0.644000; val_acc: 0.545000\n",
      "(Epoch 13 / 25) train acc: 0.653000; val_acc: 0.556000\n",
      "(Epoch 14 / 25) train acc: 0.668000; val_acc: 0.558000\n",
      "(Epoch 15 / 25) train acc: 0.664000; val_acc: 0.564000\n",
      "(Epoch 16 / 25) train acc: 0.678000; val_acc: 0.563000\n",
      "(Epoch 17 / 25) train acc: 0.708000; val_acc: 0.558000\n",
      "(Epoch 18 / 25) train acc: 0.721000; val_acc: 0.573000\n",
      "(Epoch 19 / 25) train acc: 0.677000; val_acc: 0.573000\n",
      "(Epoch 20 / 25) train acc: 0.716000; val_acc: 0.571000\n",
      "(Epoch 21 / 25) train acc: 0.704000; val_acc: 0.570000\n",
      "(Iteration 1001 / 1175) loss: 0.964139\n",
      "(Epoch 22 / 25) train acc: 0.721000; val_acc: 0.574000\n",
      "(Epoch 23 / 25) train acc: 0.736000; val_acc: 0.584000\n",
      "(Epoch 24 / 25) train acc: 0.713000; val_acc: 0.575000\n",
      "(Epoch 25 / 25) train acc: 0.751000; val_acc: 0.566000\n",
      "Validation set accuracy: 0.584\n",
      "Test set accuracy: 0.589\n"
     ]
    }
   ],
   "source": [
    "# ================================================================ #\n",
    "# YOUR CODE HERE:\n",
    "#   Implement a FC-net that achieves at least 55% validation accuracy\n",
    "#   on CIFAR-10.\n",
    "# ================================================================ #\n",
    "\n",
    "hidden_dims = [512, 256, 128, 64]\n",
    "lr_decay = 0.9\n",
    "learning_rate = 5e-3\n",
    "weight_scale = 0.01\n",
    "dropout = 0.2\n",
    "reg = 0.0\n",
    "update_rule = 'adam'\n",
    "\n",
    "model = FullyConnectedNet(hidden_dims = hidden_dims, weight_scale = weight_scale, \n",
    "                          dropout=dropout, use_batchnorm=True, reg=reg)\n",
    "\n",
    "solver = Solver(model, data,\n",
    "              num_epochs=25, batch_size=1024,\n",
    "              update_rule=update_rule,\n",
    "              optim_config={\n",
    "                'learning_rate': learning_rate,\n",
    "              },\n",
    "              lr_decay=lr_decay,\n",
    "              verbose=True, print_every=500)\n",
    "solver.train()\n",
    "\n",
    "#print out the validation accuracy\n",
    "y_test_pred = np.argmax(model.loss(data['X_test']), axis=1)\n",
    "y_val_pred = np.argmax(model.loss(data['X_val']), axis=1)\n",
    "print('Validation set accuracy: {}'.format(np.mean(y_val_pred == data['y_val'])))\n",
    "print('Test set accuracy: {}'.format(np.mean(y_test_pred == data['y_test'])))\n",
    "# ================================================================ #\n",
    "# END YOUR CODE HERE\n",
    "# ================================================================ #\n"
   ]
  }
 ],
 "metadata": {
  "kernelspec": {
   "display_name": "Python 3",
   "language": "python",
   "name": "python3"
  },
  "language_info": {
   "codemirror_mode": {
    "name": "ipython",
    "version": 3
   },
   "file_extension": ".py",
   "mimetype": "text/x-python",
   "name": "python",
   "nbconvert_exporter": "python",
   "pygments_lexer": "ipython3",
   "version": "3.6.4"
  }
 },
 "nbformat": 4,
 "nbformat_minor": 2
}
