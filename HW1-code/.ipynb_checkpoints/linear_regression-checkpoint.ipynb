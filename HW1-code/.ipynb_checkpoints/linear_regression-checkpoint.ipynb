{
 "cells": [
  {
   "cell_type": "markdown",
   "metadata": {},
   "source": [
    "## Linear regression workbook\n",
    "\n",
    "This workbook will walk you through a linear regression example. It will provide familiarity with Jupyter Notebook and Python.  Please print (to pdf) a completed version of this workbook for submission with HW #1.\n",
    "\n",
    "ECE C147/C247 Winter Quarter 2020, Prof. J.C. Kao, TAs W. Feng, J. Lee, K. Liang, M. Kleinman, C. Zheng"
   ]
  },
  {
   "cell_type": "code",
   "execution_count": 1,
   "metadata": {},
   "outputs": [],
   "source": [
    "import numpy as np \n",
    "import matplotlib.pyplot as plt\n",
    "\n",
    "#allows matlab plots to be generated in line\n",
    "%matplotlib inline "
   ]
  },
  {
   "cell_type": "markdown",
   "metadata": {},
   "source": [
    "### Data generation\n",
    "\n",
    "For any example, we first have to generate some appropriate data to use. The following cell generates data according to the model: $y = x - 2x^2 + x^3 + \\epsilon$"
   ]
  },
  {
   "cell_type": "code",
   "execution_count": 2,
   "metadata": {},
   "outputs": [
    {
     "data": {
      "text/plain": [
       "Text(0,0.5,'$y$')"
      ]
     },
     "execution_count": 2,
     "metadata": {},
     "output_type": "execute_result"
    },
    {
     "data": {
      "image/png": "[encoded data removed]",
      "text/plain": [
       "<matplotlib.figure.Figure at 0x7f815cc00198>"
      ]
     },
     "metadata": {},
     "output_type": "display_data"
    }
   ],
   "source": [
    "np.random.seed(0)  # Sets the random seed.\n",
    "num_train = 200     # Number of training data points\n",
    "\n",
    "# Generate the training data\n",
    "x = np.random.uniform(low=0, high=1, size=(num_train,))\n",
    "y = x - 2*x**2 + x**3 + np.random.normal(loc=0, scale=0.03, size=(num_train,))\n",
    "f = plt.figure()\n",
    "ax = f.gca()\n",
    "ax.plot(x, y, '.')\n",
    "ax.set_xlabel('$x$')\n",
    "ax.set_ylabel('$y$')"
   ]
  },
  {
   "cell_type": "markdown",
   "metadata": {},
   "source": [
    "### QUESTIONS:\n",
    "\n",
    "Write your answers in the markdown cell below this one:\n",
    "\n",
    "(1) What is the generating distribution of $x$?\n",
    "\n",
    "(2) What is the distribution of the additive noise $\\epsilon$?"
   ]
  },
  {
   "cell_type": "markdown",
   "metadata": {},
   "source": [
    "### ANSWERS:\n",
    "\n",
    "(1) Uniform distribution.\n",
    "\n",
    "(2) Normal distribution."
   ]
  },
  {
   "cell_type": "markdown",
   "metadata": {},
   "source": [
    "### Fitting data to the model (5 points)\n",
    "\n",
    "Here, we'll do linear regression to fit the parameters of a model $y = ax + b$."
   ]
  },
  {
   "cell_type": "code",
   "execution_count": 3,
   "metadata": {},
   "outputs": [],
   "source": [
    "# xhat = (x, 1)\n",
    "xhat = np.vstack((x, np.ones_like(x)))\n",
    "# ==================== #\n",
    "# START YOUR CODE HERE #\n",
    "# ==================== #\n",
    "# GOAL: create a variable theta; theta is a numpy array whose elements are [a, b]\n",
    "\n",
    "theta = np.zeros(2) # please modify this line\n",
    "step = 0.05\n",
    "# Gradient Descent\n",
    "for i in range(1000):\n",
    "    dloss = -xhat.dot(y) + xhat.dot(xhat.T).dot(theta)\n",
    "    theta = theta - (dloss/abs(dloss))*(step/np.sqrt(pow(dloss,2)+1))\n",
    "    if i == 200:\n",
    "        step = step / 5\n",
    "    elif i == 500:\n",
    "        step = step / 5\n",
    "# ================== #\n",
    "# END YOUR CODE HERE #\n",
    "# ================== #"
   ]
  },
  {
   "cell_type": "code",
   "execution_count": 4,
   "metadata": {},
   "outputs": [
    {
     "data": {
      "text/plain": [
       "array([-0.10800943,  0.13464018])"
      ]
     },
     "execution_count": 4,
     "metadata": {},
     "output_type": "execute_result"
    }
   ],
   "source": [
    "theta"
   ]
  },
  {
   "cell_type": "code",
   "execution_count": 5,
   "metadata": {},
   "outputs": [
    {
     "data": {
      "text/plain": [
       "array([-0.10599633,  0.13315817])"
      ]
     },
     "execution_count": 5,
     "metadata": {},
     "output_type": "execute_result"
    }
   ],
   "source": [
    "theta_lin = np.linalg.inv(xhat.dot(xhat.T)).dot(xhat.dot(y))\n",
    "theta_lin"
   ]
  },
  {
   "cell_type": "code",
   "execution_count": 6,
   "metadata": {},
   "outputs": [
    {
     "data": {
      "text/plain": [
       "[<matplotlib.lines.Line2D at 0x7f815aa60828>]"
      ]
     },
     "execution_count": 6,
     "metadata": {},
     "output_type": "execute_result"
    },
    {
     "data": {
      "image/png": "[encoded data removed]",
      "text/plain": [
       "<matplotlib.figure.Figure at 0x7f815aaec668>"
      ]
     },
     "metadata": {},
     "output_type": "display_data"
    }
   ],
   "source": [
    "# Plot the data and your model fit.\n",
    "f = plt.figure()\n",
    "ax = f.gca()\n",
    "ax.plot(x, y, '.')\n",
    "ax.set_xlabel('$x$')\n",
    "ax.set_ylabel('$y$')\n",
    "\n",
    "# Plot the regression line\n",
    "xs = np.linspace(min(x), max(x),50)\n",
    "xs = np.vstack((xs, np.ones_like(xs)))\n",
    "plt.plot(xs[0,:], theta.dot(xs))"
   ]
  },
  {
   "cell_type": "markdown",
   "metadata": {},
   "source": [
    "### QUESTIONS\n",
    "\n",
    "(1) Does the linear model under- or overfit the data?\n",
    "\n",
    "(2) How to change the model to improve the fitting?"
   ]
  },
  {
   "cell_type": "markdown",
   "metadata": {},
   "source": [
    "### ANSWERS\n",
    "\n",
    "(1) No. It's fine consider that we are doing linear regression.\n",
    "\n",
    "(2) We could do regression to polynomial models."
   ]
  },
  {
   "cell_type": "markdown",
   "metadata": {},
   "source": [
    "### Fitting data to the model (10 points)\n",
    "\n",
    "Here, we'll now do regression to polynomial models of orders 1 to 5.  Note, the order 1 model is the linear model you prior fit."
   ]
  },
  {
   "cell_type": "code",
   "execution_count": 7,
   "metadata": {},
   "outputs": [],
   "source": [
    "\n",
    "N = 5\n",
    "xhats = []\n",
    "thetas = []\n",
    "\n",
    "# ==================== #\n",
    "# START YOUR CODE HERE #\n",
    "# ==================== #\n",
    "\n",
    "# GOAL: create a variable thetas.\n",
    "# thetas is a list, where theta[i] are the model parameters for the polynomial fit of order i+1.\n",
    "#   i.e., thetas[0] is equivalent to theta above.\n",
    "#   i.e., thetas[1] should be a length 3 np.array with the coefficients of the x^2, x, and 1 respectively.\n",
    "#   ... etc.\n",
    "# Linear\n",
    "xhats.append(xhat)\n",
    "thetas.append(theta)\n",
    "# pow 2\n",
    "xhats.append(np.vstack((pow(x,2),x,np.ones(x.size))))\n",
    "theta_tmp = np.zeros(3)\n",
    "step = 0.05\n",
    "# Gradient Descent\n",
    "for i in range(1000):\n",
    "    dloss = -xhats[-1].dot(y) + xhats[-1].dot(xhats[-1].T).dot(theta_tmp)\n",
    "    theta_tmp = theta_tmp - (dloss/abs(dloss))*(step/np.sqrt(pow(dloss,2)+1))\n",
    "    if i == 200:\n",
    "        step = step / 5\n",
    "    elif i == 500:\n",
    "        step = step / 5\n",
    "thetas.append(theta_tmp)\n",
    "# pow 3\n",
    "xhats.append(np.vstack((pow(x,3),pow(x,2),x,np.ones(x.size))))\n",
    "theta_tmp = np.zeros(4)\n",
    "step = 0.05\n",
    "# Gradient Descent\n",
    "for i in range(1000):\n",
    "    dloss = -xhats[-1].dot(y) + xhats[-1].dot(xhats[-1].T).dot(theta_tmp)\n",
    "    theta_tmp = theta_tmp - (dloss/abs(dloss))*(step/np.sqrt(pow(dloss,2)+1))\n",
    "    if i == 200:\n",
    "        step = step / 5\n",
    "    elif i == 500:\n",
    "        step = step / 5\n",
    "thetas.append(theta_tmp)\n",
    "# pow 4\n",
    "xhats.append(np.vstack((pow(x,4),pow(x,3),pow(x,2),x,np.ones(x.size))))\n",
    "theta_tmp = np.zeros(5)\n",
    "step = 0.05\n",
    "# Gradient Descent\n",
    "for i in range(1000):\n",
    "    dloss = -xhats[-1].dot(y) + xhats[-1].dot(xhats[-1].T).dot(theta_tmp)\n",
    "    theta_tmp = theta_tmp - (dloss/abs(dloss))*(step/np.sqrt(pow(dloss,2)+1))\n",
    "    if i == 200:\n",
    "        step = step / 5\n",
    "    elif i == 500:\n",
    "        step = step / 5\n",
    "thetas.append(theta_tmp)\n",
    "# pow 5\n",
    "xhats.append(np.vstack((pow(x,5),pow(x,4),pow(x,3),pow(x,2),x,np.ones(x.size))))\n",
    "theta_tmp = np.zeros(6)\n",
    "step = 0.05\n",
    "# Gradient Descent\n",
    "for i in range(1000):\n",
    "    dloss = -xhats[-1].dot(y) + xhats[-1].dot(xhats[-1].T).dot(theta_tmp)\n",
    "    theta_tmp = theta_tmp - (dloss/abs(dloss))*(step/np.sqrt(pow(dloss,2)+1))\n",
    "    if i == 200:\n",
    "        step = step / 5\n",
    "    elif i == 500:\n",
    "        step = step / 5\n",
    "thetas.append(theta_tmp)\n",
    "pass\n",
    "\n",
    "# ================== #\n",
    "# END YOUR CODE HERE #\n",
    "# ================== #"
   ]
  },
  {
   "cell_type": "code",
   "execution_count": 8,
   "metadata": {},
   "outputs": [
    {
     "data": {
      "text/plain": [
       "[array([-0.10800943,  0.13464018]),\n",
       " array([-0.43682215,  0.32109683,  0.062921  ]),\n",
       " array([-0.20165278, -0.13866618,  0.20538297,  0.07073462]),\n",
       " array([ 0.11693129, -0.20611328, -0.312629  ,  0.28407817,  0.06658525]),\n",
       " array([ 0.3102328 , -0.11760083, -0.3841783 , -0.21215671,  0.30802978,\n",
       "         0.06060368])]"
      ]
     },
     "execution_count": 8,
     "metadata": {},
     "output_type": "execute_result"
    }
   ],
   "source": [
    "thetas"
   ]
  },
  {
   "cell_type": "code",
   "execution_count": 9,
   "metadata": {},
   "outputs": [
    {
     "data": {
      "image/png": "[encoded data removed]",
      "text/plain": [
       "<matplotlib.figure.Figure at 0x7f815aa75630>"
      ]
     },
     "metadata": {},
     "output_type": "display_data"
    }
   ],
   "source": [
    "# Plot the data\n",
    "f = plt.figure()\n",
    "ax = f.gca()\n",
    "ax.plot(x, y, '.')\n",
    "ax.set_xlabel('$x$')\n",
    "ax.set_ylabel('$y$')\n",
    "\n",
    "# Plot the regression lines\n",
    "plot_xs = []\n",
    "for i in np.arange(N):\n",
    "    if i == 0:\n",
    "        plot_x = np.vstack((np.linspace(min(x), max(x),50), np.ones(50)))\n",
    "    else:\n",
    "        plot_x = np.vstack((plot_x[-2]**(i+1), plot_x))                              \n",
    "    plot_xs.append(plot_x)\n",
    "\n",
    "for i in np.arange(N):\n",
    "    ax.plot(plot_xs[i][-2,:], thetas[i].dot(plot_xs[i]))\n",
    "\n",
    "labels = ['data']\n",
    "[labels.append('n={}'.format(i+1)) for i in np.arange(N)]\n",
    "bbox_to_anchor=(1.3, 1)\n",
    "lgd = ax.legend(labels, bbox_to_anchor=bbox_to_anchor)"
   ]
  },
  {
   "cell_type": "markdown",
   "metadata": {},
   "source": [
    "### Calculating the training error (10 points)\n",
    "\n",
    "Here, we'll now calculate the training error of polynomial models of orders 1 to 5:\n",
    "\n",
    "$L(\\theta) = \\frac{1}{2}\\sum_{j}(\\hat{y}_j - y_j)^2$"
   ]
  },
  {
   "cell_type": "code",
   "execution_count": 10,
   "metadata": {},
   "outputs": [
    {
     "name": "stdout",
     "output_type": "stream",
     "text": [
      "Training errors are: \n",
      " [0.23805129841210315, 0.1105261723492853, 0.12439276615592265, 0.11089569272844269, 0.10007705323623883]\n"
     ]
    }
   ],
   "source": [
    "training_errors = []\n",
    "\n",
    "# ==================== #\n",
    "# START YOUR CODE HERE #\n",
    "# ==================== #\n",
    "\n",
    "# GOAL: create a variable training_errors, a list of 5 elements,\n",
    "# where training_errors[i] are the training loss for the polynomial fit of order i+1.\n",
    "training_errors.append(0.5*(y.T.dot(y)-2*y.T.dot(xhats[0].T).dot(thetas[0])+thetas[0].T.dot(xhats[0]).dot(xhats[0].T).dot(thetas[0])))\n",
    "training_errors.append(0.5*(y.T.dot(y)-2*y.T.dot(xhats[1].T).dot(thetas[1])+thetas[1].T.dot(xhats[1]).dot(xhats[1].T).dot(thetas[1])))\n",
    "training_errors.append(0.5*(y.T.dot(y)-2*y.T.dot(xhats[2].T).dot(thetas[2])+thetas[2].T.dot(xhats[2]).dot(xhats[2].T).dot(thetas[2])))\n",
    "training_errors.append(0.5*(y.T.dot(y)-2*y.T.dot(xhats[3].T).dot(thetas[3])+thetas[3].T.dot(xhats[3]).dot(xhats[3].T).dot(thetas[3])))\n",
    "training_errors.append(0.5*(y.T.dot(y)-2*y.T.dot(xhats[4].T).dot(thetas[4])+thetas[4].T.dot(xhats[4]).dot(xhats[4].T).dot(thetas[4])))\n",
    "pass\n",
    "\n",
    "# ================== #\n",
    "# END YOUR CODE HERE #\n",
    "# ================== #\n",
    "\n",
    "print ('Training errors are: \\n', training_errors)"
   ]
  },
  {
   "cell_type": "markdown",
   "metadata": {},
   "source": [
    "### QUESTIONS\n",
    "\n",
    "(1) Which polynomial model has the best training error?\n",
    "\n",
    "(2) Why is this expected?"
   ]
  },
  {
   "cell_type": "markdown",
   "metadata": {},
   "source": [
    "### ANSWERS\n",
    "\n",
    "(1) 5-order polynomial model has the lowest training error.\n",
    "\n",
    "(2) Because a higher order polynomial model can always do the same or better than a low one since the higher one includes all pows of the lower one."
   ]
  },
  {
   "cell_type": "markdown",
   "metadata": {},
   "source": [
    "### Generating new samples and testing error (5 points)\n",
    "\n",
    "Here, we'll now generate new samples and calculate the testing error of polynomial models of orders 1 to 5."
   ]
  },
  {
   "cell_type": "code",
   "execution_count": 11,
   "metadata": {},
   "outputs": [
    {
     "data": {
      "text/plain": [
       "Text(0,0.5,'$y$')"
      ]
     },
     "execution_count": 11,
     "metadata": {},
     "output_type": "execute_result"
    },
    {
     "data": {
      "image/png": "[encoded data removed]",
      "text/plain": [
       "<matplotlib.figure.Figure at 0x7f815aa810f0>"
      ]
     },
     "metadata": {},
     "output_type": "display_data"
    }
   ],
   "source": [
    "x = np.random.uniform(low=1, high=2, size=(num_train,))\n",
    "y = x - 2*x**2 + x**3 + np.random.normal(loc=0, scale=0.03, size=(num_train,))\n",
    "f = plt.figure()\n",
    "ax = f.gca()\n",
    "ax.plot(x, y, '.')\n",
    "ax.set_xlabel('$x$')\n",
    "ax.set_ylabel('$y$')"
   ]
  },
  {
   "cell_type": "code",
   "execution_count": 12,
   "metadata": {},
   "outputs": [],
   "source": [
    "xhats = []\n",
    "for i in np.arange(N):\n",
    "    if i == 0:\n",
    "        xhat = np.vstack((x, np.ones_like(x)))\n",
    "        plot_x = np.vstack((np.linspace(min(x), max(x),50), np.ones(50)))\n",
    "    else:\n",
    "        xhat = np.vstack((x**(i+1), xhat))\n",
    "        plot_x = np.vstack((plot_x[-2]**(i+1), plot_x))\n",
    "                              \n",
    "    xhats.append(xhat)"
   ]
  },
  {
   "cell_type": "code",
   "execution_count": 13,
   "metadata": {},
   "outputs": [
    {
     "data": {
      "image/png": "[encoded data removed]",
      "text/plain": [
       "<matplotlib.figure.Figure at 0x7f815aa01c50>"
      ]
     },
     "metadata": {},
     "output_type": "display_data"
    }
   ],
   "source": [
    "# Plot the data\n",
    "f = plt.figure()\n",
    "ax = f.gca()\n",
    "ax.plot(x, y, '.')\n",
    "ax.set_xlabel('$x$')\n",
    "ax.set_ylabel('$y$')\n",
    "\n",
    "# Plot the regression lines\n",
    "plot_xs = []\n",
    "for i in np.arange(N):\n",
    "    if i == 0:\n",
    "        plot_x = np.vstack((np.linspace(min(x), max(x),50), np.ones(50)))\n",
    "    else:\n",
    "        plot_x = np.vstack((plot_x[-2]**(i+1), plot_x))                              \n",
    "    plot_xs.append(plot_x)\n",
    "\n",
    "for i in np.arange(N):\n",
    "    ax.plot(plot_xs[i][-2,:], thetas[i].dot(plot_xs[i]))\n",
    "\n",
    "labels = ['data']\n",
    "[labels.append('n={}'.format(i+1)) for i in np.arange(N)]\n",
    "bbox_to_anchor=(1.3, 1)\n",
    "lgd = ax.legend(labels, bbox_to_anchor=bbox_to_anchor)"
   ]
  },
  {
   "cell_type": "code",
   "execution_count": 14,
   "metadata": {},
   "outputs": [
    {
     "name": "stdout",
     "output_type": "stream",
     "text": [
      "Testing errors are: \n",
      " [81.129479259598455, 199.70224888594782, 294.05510960446202, 129.42314508486794, 105.33118027312869]\n"
     ]
    }
   ],
   "source": [
    "testing_errors = []\n",
    "\n",
    "# ==================== #\n",
    "# START YOUR CODE HERE #\n",
    "# ==================== #\n",
    "\n",
    "# GOAL: create a variable testing_errors, a list of 5 elements,\n",
    "# where testing_errors[i] are the testing loss for the polynomial fit of order i+1.\n",
    "testing_errors.append(0.5*(y.T.dot(y)-2*y.T.dot(xhats[0].T).dot(thetas[0])+thetas[0].T.dot(xhats[0]).dot(xhats[0].T).dot(thetas[0])))\n",
    "testing_errors.append(0.5*(y.T.dot(y)-2*y.T.dot(xhats[1].T).dot(thetas[1])+thetas[1].T.dot(xhats[1]).dot(xhats[1].T).dot(thetas[1])))\n",
    "testing_errors.append(0.5*(y.T.dot(y)-2*y.T.dot(xhats[2].T).dot(thetas[2])+thetas[2].T.dot(xhats[2]).dot(xhats[2].T).dot(thetas[2])))\n",
    "testing_errors.append(0.5*(y.T.dot(y)-2*y.T.dot(xhats[3].T).dot(thetas[3])+thetas[3].T.dot(xhats[3]).dot(xhats[3].T).dot(thetas[3])))\n",
    "testing_errors.append(0.5*(y.T.dot(y)-2*y.T.dot(xhats[4].T).dot(thetas[4])+thetas[4].T.dot(xhats[4]).dot(xhats[4].T).dot(thetas[4])))\n",
    "pass\n",
    "\n",
    "# ================== #\n",
    "# END YOUR CODE HERE #\n",
    "# ================== #\n",
    "\n",
    "print ('Testing errors are: \\n', testing_errors)"
   ]
  },
  {
   "cell_type": "markdown",
   "metadata": {},
   "source": [
    "### QUESTIONS\n",
    "\n",
    "(1) Which polynomial model has the best testing error?\n",
    "\n",
    "(2) Why does the order-5 polynomial model not generalize well?"
   ]
  },
  {
   "cell_type": "markdown",
   "metadata": {},
   "source": [
    "### ANSWERS\n",
    "\n",
    "(1) Shockingly, linear regression model has the lowest testing error. That is mainly because the testing data have different distribution as training data. And lower order polynomial model is less sensitive about testing dataset.\n",
    "\n",
    "(2) A high order polynomial model is largely fitted to training data. It is fitted so much so that it often learns the character of the training dataset, which causes overfit. Once it is given a dataset that it has never seen before, it would not make a performance as good as the training dataset. A lower order polynomial model, however, usually has higher training error since it does not learn much about the character of the training dataset. But it has comparable testing error."
   ]
  }
 ],
 "metadata": {
  "kernelspec": {
   "display_name": "Python 3",
   "language": "python",
   "name": "python3"
  },
  "language_info": {
   "codemirror_mode": {
    "name": "ipython",
    "version": 3
   },
   "file_extension": ".py",
   "mimetype": "text/x-python",
   "name": "python",
   "nbconvert_exporter": "python",
   "pygments_lexer": "ipython3",
   "version": "3.6.7"
  }
 },
 "nbformat": 4,
 "nbformat_minor": 2
}
