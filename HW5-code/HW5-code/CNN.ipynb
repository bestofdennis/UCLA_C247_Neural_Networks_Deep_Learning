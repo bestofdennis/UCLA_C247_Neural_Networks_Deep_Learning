{
 "cells": [
  {
   "cell_type": "markdown",
   "metadata": {},
   "source": [
    "# Convolutional neural networks\n",
    "\n",
    "In this notebook, we'll put together our convolutional layers to implement a 3-layer CNN.  Then, we'll ask you to implement a CNN that can achieve > 65% validation error on CIFAR-10.\n",
    "\n",
    "CS231n has built a solid API for building these modular frameworks and training them, and we will use their very well implemented framework as opposed to \"reinventing the wheel.\"  This includes using their Solver, various utility functions, their layer structure, and their implementation of fast CNN layers.  This also includes nndl.fc_net, nndl.layers, and nndl.layer_utils.  As in prior assignments, we thank Serena Yeung & Justin Johnson for permission to use code written for the CS 231n class (cs231n.stanford.edu).  \n",
    "\n",
    "\n",
    "If you have not completed the Spatial BatchNorm Notebook, please see the following description from that notebook:\n",
    "\n",
    "Please copy and paste your prior implemented code from HW #4 to start this assignment.  If you did not correctly implement the layers in HW #4, you may collaborate with a classmate to use their layer implementations from HW #4.  You may also visit TA or Prof OH to correct your implementation.  \n",
    "\n",
    "You'll want to copy and paste from HW #4:\n",
    "    - layers.py for your FC network layers, as well as batchnorm and dropout.\n",
    "    - layer_utils.py for your combined FC network layers.\n",
    "    - optim.py for your optimizers.\n",
    "\n",
    "Be sure to place these in the `nndl/` directory so they're imported correctly.  Note, as announced in class, we will not be releasing our solutions."
   ]
  },
  {
   "cell_type": "code",
   "execution_count": 1,
   "metadata": {},
   "outputs": [],
   "source": [
    "# As usual, a bit of setup\n",
    "\n",
    "import numpy as np\n",
    "import matplotlib.pyplot as plt\n",
    "from nndl.cnn import *\n",
    "from cs231n.data_utils import get_CIFAR10_data\n",
    "from cs231n.gradient_check import eval_numerical_gradient_array, eval_numerical_gradient\n",
    "from nndl.layers import *\n",
    "from nndl.conv_layers import *\n",
    "from cs231n.fast_layers import *\n",
    "from cs231n.solver import Solver\n",
    "\n",
    "%matplotlib inline\n",
    "plt.rcParams['figure.figsize'] = (10.0, 8.0) # set default size of plots\n",
    "plt.rcParams['image.interpolation'] = 'nearest'\n",
    "plt.rcParams['image.cmap'] = 'gray'\n",
    "\n",
    "# for auto-reloading external modules\n",
    "# see http://stackoverflow.com/questions/1907993/autoreload-of-modules-in-ipython\n",
    "%load_ext autoreload\n",
    "%autoreload 2\n",
    "\n",
    "def rel_error(x, y):\n",
    "    \"\"\" returns relative error \"\"\"\n",
    "    return np.max(np.abs(x - y) / (np.maximum(1e-8, np.abs(x) + np.abs(y))))"
   ]
  },
  {
   "cell_type": "code",
   "execution_count": 2,
   "metadata": {},
   "outputs": [
    {
     "name": "stdout",
     "output_type": "stream",
     "text": [
      "X_train: (49000, 3, 32, 32) \n",
      "y_train: (49000,) \n",
      "X_val: (1000, 3, 32, 32) \n",
      "y_val: (1000,) \n",
      "X_test: (1000, 3, 32, 32) \n",
      "y_test: (1000,) \n"
     ]
    }
   ],
   "source": [
    "# Load the (preprocessed) CIFAR10 data.\n",
    "\n",
    "data = get_CIFAR10_data()\n",
    "for k in data.keys():\n",
    "    print('{}: {} '.format(k, data[k].shape))"
   ]
  },
  {
   "cell_type": "markdown",
   "metadata": {},
   "source": [
    "## Three layer CNN\n",
    "\n",
    "In this notebook, you will implement a three layer CNN.  The `ThreeLayerConvNet` class is in `nndl/cnn.py`.  You'll need to modify that code for this section, including the initialization, as well as the calculation of the loss and gradients.  You should be able to use the building blocks you have either earlier coded or that we have provided.  Be sure to use the fast layers.\n",
    "\n",
    "The architecture of this CNN will be:\n",
    "\n",
    "conv - relu - 2x2 max pool - affine - relu - affine - softmax\n",
    "\n",
    "We won't use batchnorm yet.  You've also done enough of these to know how to debug; use the cells below.\n",
    "\n",
    "Note: As we are implementing several layers CNN networks. The gradient error can be expected for the `eval_numerical_gradient()` function. If your `W1 max relative error` and `W2 max relative error` are around or below 0.01, they should be acceptable. Other errors should be less than 1e-5. "
   ]
  },
  {
   "cell_type": "code",
   "execution_count": 3,
   "metadata": {},
   "outputs": [
    {
     "name": "stdout",
     "output_type": "stream",
     "text": [
      "W1 max relative error: 0.00023082785061521131\n",
      "W2 max relative error: 0.021274747961375715\n",
      "W3 max relative error: 4.1661588798701635e-05\n",
      "b1 max relative error: 0.00044964753332775957\n",
      "b2 max relative error: 2.940578365769697e-07\n",
      "b3 max relative error: 1.1646335317677625e-09\n"
     ]
    }
   ],
   "source": [
    "num_inputs = 2\n",
    "input_dim = (3, 16, 16)\n",
    "reg = 0.0\n",
    "num_classes = 10\n",
    "X = np.random.randn(num_inputs, *input_dim)\n",
    "y = np.random.randint(num_classes, size=num_inputs)\n",
    "\n",
    "model = ThreeLayerConvNet(num_filters=3, filter_size=3,\n",
    "                          input_dim=input_dim, hidden_dim=7,\n",
    "                          dtype=np.float64)\n",
    "loss, grads = model.loss(X, y)\n",
    "for param_name in sorted(grads):\n",
    "    f = lambda _: model.loss(X, y)[0]\n",
    "    param_grad_num = eval_numerical_gradient(f, model.params[param_name], verbose=False, h=1e-6)\n",
    "    e = rel_error(param_grad_num, grads[param_name])\n",
    "    print('{} max relative error: {}'.format(param_name, rel_error(param_grad_num, grads[param_name])))"
   ]
  },
  {
   "cell_type": "markdown",
   "metadata": {},
   "source": [
    "### Overfit small dataset\n",
    "\n",
    "To check your CNN implementation, let's overfit a small dataset."
   ]
  },
  {
   "cell_type": "code",
   "execution_count": 4,
   "metadata": {},
   "outputs": [
    {
     "name": "stdout",
     "output_type": "stream",
     "text": [
      "(Iteration 1 / 20) loss: 2.270940\n",
      "(Epoch 0 / 10) train acc: 0.220000; val_acc: 0.113000\n",
      "(Iteration 2 / 20) loss: 2.208918\n",
      "(Epoch 1 / 10) train acc: 0.280000; val_acc: 0.126000\n",
      "(Iteration 3 / 20) loss: 2.114601\n",
      "(Iteration 4 / 20) loss: 2.011529\n",
      "(Epoch 2 / 10) train acc: 0.350000; val_acc: 0.146000\n",
      "(Iteration 5 / 20) loss: 1.936778\n",
      "(Iteration 6 / 20) loss: 1.887811\n",
      "(Epoch 3 / 10) train acc: 0.390000; val_acc: 0.174000\n",
      "(Iteration 7 / 20) loss: 1.708771\n",
      "(Iteration 8 / 20) loss: 1.969354\n",
      "(Epoch 4 / 10) train acc: 0.460000; val_acc: 0.177000\n",
      "(Iteration 9 / 20) loss: 1.806180\n",
      "(Iteration 10 / 20) loss: 1.676205\n",
      "(Epoch 5 / 10) train acc: 0.540000; val_acc: 0.171000\n",
      "(Iteration 11 / 20) loss: 1.523312\n",
      "(Iteration 12 / 20) loss: 1.493633\n",
      "(Epoch 6 / 10) train acc: 0.640000; val_acc: 0.181000\n",
      "(Iteration 13 / 20) loss: 1.479518\n",
      "(Iteration 14 / 20) loss: 1.524081\n",
      "(Epoch 7 / 10) train acc: 0.670000; val_acc: 0.178000\n",
      "(Iteration 15 / 20) loss: 1.245679\n",
      "(Iteration 16 / 20) loss: 1.390325\n",
      "(Epoch 8 / 10) train acc: 0.730000; val_acc: 0.185000\n",
      "(Iteration 17 / 20) loss: 1.329916\n",
      "(Iteration 18 / 20) loss: 1.157806\n",
      "(Epoch 9 / 10) train acc: 0.780000; val_acc: 0.196000\n",
      "(Iteration 19 / 20) loss: 0.953938\n",
      "(Iteration 20 / 20) loss: 1.043319\n",
      "(Epoch 10 / 10) train acc: 0.790000; val_acc: 0.195000\n"
     ]
    }
   ],
   "source": [
    "num_train = 100\n",
    "small_data = {\n",
    "  'X_train': data['X_train'][:num_train],\n",
    "  'y_train': data['y_train'][:num_train],\n",
    "  'X_val': data['X_val'],\n",
    "  'y_val': data['y_val'],\n",
    "}\n",
    "\n",
    "model = ThreeLayerConvNet(weight_scale=1e-2)\n",
    "\n",
    "solver = Solver(model, small_data,\n",
    "                num_epochs=10, batch_size=50,\n",
    "                update_rule='adam',\n",
    "                optim_config={\n",
    "                  'learning_rate': 1e-3,\n",
    "                },\n",
    "                verbose=True, print_every=1)\n",
    "solver.train()"
   ]
  },
  {
   "cell_type": "code",
   "execution_count": 5,
   "metadata": {},
   "outputs": [
    {
     "data": {
      "image/png": "[encoded data removed]",
      "text/plain": [
       "<matplotlib.figure.Figure at 0x7f8ec8738c88>"
      ]
     },
     "metadata": {
      "needs_background": "light"
     },
     "output_type": "display_data"
    }
   ],
   "source": [
    "plt.subplot(2, 1, 1)\n",
    "plt.plot(solver.loss_history, 'o')\n",
    "plt.xlabel('iteration')\n",
    "plt.ylabel('loss')\n",
    "\n",
    "plt.subplot(2, 1, 2)\n",
    "plt.plot(solver.train_acc_history, '-o')\n",
    "plt.plot(solver.val_acc_history, '-o')\n",
    "plt.legend(['train', 'val'], loc='upper left')\n",
    "plt.xlabel('epoch')\n",
    "plt.ylabel('accuracy')\n",
    "plt.show()"
   ]
  },
  {
   "cell_type": "markdown",
   "metadata": {},
   "source": [
    "## Train the network\n",
    "\n",
    "Now we train the 3 layer CNN on CIFAR-10 and assess its accuracy."
   ]
  },
  {
   "cell_type": "code",
   "execution_count": 6,
   "metadata": {
    "scrolled": false
   },
   "outputs": [
    {
     "name": "stdout",
     "output_type": "stream",
     "text": [
      "(Iteration 1 / 980) loss: 2.304727\n",
      "(Epoch 0 / 1) train acc: 0.145000; val_acc: 0.146000\n",
      "(Iteration 21 / 980) loss: 2.082813\n",
      "(Iteration 41 / 980) loss: 1.995757\n",
      "(Iteration 61 / 980) loss: 1.835110\n",
      "(Iteration 81 / 980) loss: 1.804414\n",
      "(Iteration 101 / 980) loss: 1.755125\n",
      "(Iteration 121 / 980) loss: 1.621383\n",
      "(Iteration 141 / 980) loss: 1.689488\n",
      "(Iteration 161 / 980) loss: 1.710496\n",
      "(Iteration 181 / 980) loss: 1.698537\n",
      "(Iteration 201 / 980) loss: 1.567343\n",
      "(Iteration 221 / 980) loss: 1.466386\n",
      "(Iteration 241 / 980) loss: 1.579222\n",
      "(Iteration 261 / 980) loss: 1.754307\n",
      "(Iteration 281 / 980) loss: 1.416233\n",
      "(Iteration 301 / 980) loss: 1.672041\n",
      "(Iteration 321 / 980) loss: 1.409082\n",
      "(Iteration 341 / 980) loss: 1.448680\n",
      "(Iteration 361 / 980) loss: 1.470366\n",
      "(Iteration 381 / 980) loss: 1.270865\n",
      "(Iteration 401 / 980) loss: 1.229697\n",
      "(Iteration 421 / 980) loss: 1.383460\n",
      "(Iteration 441 / 980) loss: 1.449229\n",
      "(Iteration 461 / 980) loss: 1.367638\n",
      "(Iteration 481 / 980) loss: 1.333856\n",
      "(Iteration 501 / 980) loss: 1.366297\n",
      "(Iteration 521 / 980) loss: 1.362858\n",
      "(Iteration 541 / 980) loss: 1.453283\n",
      "(Iteration 561 / 980) loss: 1.217195\n",
      "(Iteration 581 / 980) loss: 1.755211\n",
      "(Iteration 601 / 980) loss: 1.186759\n",
      "(Iteration 621 / 980) loss: 1.320411\n",
      "(Iteration 641 / 980) loss: 1.112458\n",
      "(Iteration 661 / 980) loss: 1.310773\n",
      "(Iteration 681 / 980) loss: 1.309771\n",
      "(Iteration 701 / 980) loss: 1.303662\n",
      "(Iteration 721 / 980) loss: 1.165900\n",
      "(Iteration 741 / 980) loss: 1.450261\n",
      "(Iteration 761 / 980) loss: 1.520802\n",
      "(Iteration 781 / 980) loss: 1.571353\n",
      "(Iteration 801 / 980) loss: 1.408522\n",
      "(Iteration 821 / 980) loss: 1.476427\n",
      "(Iteration 841 / 980) loss: 1.183337\n",
      "(Iteration 861 / 980) loss: 1.239274\n",
      "(Iteration 881 / 980) loss: 1.306790\n",
      "(Iteration 901 / 980) loss: 1.524403\n",
      "(Iteration 921 / 980) loss: 1.027558\n",
      "(Iteration 941 / 980) loss: 1.420899\n",
      "(Iteration 961 / 980) loss: 1.059830\n",
      "(Epoch 1 / 1) train acc: 0.572000; val_acc: 0.575000\n"
     ]
    }
   ],
   "source": [
    "model = ThreeLayerConvNet(weight_scale=0.001, hidden_dim=500, reg=0.001)\n",
    "\n",
    "solver = Solver(model, data,\n",
    "                num_epochs=1, batch_size=50,\n",
    "                update_rule='adam',\n",
    "                optim_config={\n",
    "                  'learning_rate': 1e-3,\n",
    "                },\n",
    "                verbose=True, print_every=20)\n",
    "solver.train()"
   ]
  },
  {
   "cell_type": "markdown",
   "metadata": {},
   "source": [
    "# Get > 65% validation accuracy on CIFAR-10.\n",
    "\n",
    "In the last part of the assignment, we'll now ask you to train a CNN to get better than 65% validation accuracy on CIFAR-10.\n",
    "\n",
    "### Things you should try:\n",
    "- Filter size: Above we used 7x7; but VGGNet and onwards showed stacks of 3x3 filters are good.  \n",
    "- Number of filters: Above we used 32 filters. Do more or fewer do better?\n",
    "- Batch normalization: Try adding spatial batch normalization after convolution layers and vanilla batch normalization after affine layers. Do your networks train faster?\n",
    "- Network architecture: Can a deeper CNN do better?  Consider these architectures:\n",
    "    - [conv-relu-pool]xN - conv - relu - [affine]xM - [softmax or SVM]\n",
    "    - [conv-relu-pool]XN - [affine]XM - [softmax or SVM]\n",
    "    - [conv-relu-conv-relu-pool]xN - [affine]xM - [softmax or SVM]\n",
    "\n",
    "### Tips for training\n",
    "For each network architecture that you try, you should tune the learning rate and regularization strength. When doing this there are a couple of important things to keep in mind:\n",
    "\n",
    "- If the parameters are working well, you should see improvement within a few hundred iterations\n",
    "- Remember the coarse-to-fine approach for hyperparameter tuning: start by testing a large range of hyperparameters for just a few training iterations to find the combinations of parameters that are working at all.\n",
    "- Once you have found some sets of parameters that seem to work, search more finely around these parameters. You may need to train for more epochs."
   ]
  },
  {
   "cell_type": "code",
   "execution_count": 7,
   "metadata": {
    "scrolled": false
   },
   "outputs": [
    {
     "name": "stdout",
     "output_type": "stream",
     "text": [
      "(Iteration 1 / 950) loss: 2.306641\n",
      "(Epoch 0 / 10) train acc: 0.193000; val_acc: 0.179000\n",
      "(Iteration 51 / 950) loss: 1.814853\n",
      "(Epoch 1 / 10) train acc: 0.419000; val_acc: 0.426000\n",
      "(Iteration 101 / 950) loss: 1.591991\n",
      "(Iteration 151 / 950) loss: 1.407643\n",
      "(Epoch 2 / 10) train acc: 0.534000; val_acc: 0.524000\n",
      "(Iteration 201 / 950) loss: 1.331218\n",
      "(Iteration 251 / 950) loss: 1.249435\n",
      "(Epoch 3 / 10) train acc: 0.595000; val_acc: 0.573000\n",
      "(Iteration 301 / 950) loss: 1.213445\n",
      "(Iteration 351 / 950) loss: 1.140445\n",
      "(Epoch 4 / 10) train acc: 0.598000; val_acc: 0.589000\n",
      "(Iteration 401 / 950) loss: 1.120825\n",
      "(Iteration 451 / 950) loss: 0.989000\n",
      "(Epoch 5 / 10) train acc: 0.612000; val_acc: 0.595000\n",
      "(Iteration 501 / 950) loss: 1.065172\n",
      "(Iteration 551 / 950) loss: 1.042547\n",
      "(Epoch 6 / 10) train acc: 0.684000; val_acc: 0.624000\n",
      "(Iteration 601 / 950) loss: 0.869352\n",
      "(Iteration 651 / 950) loss: 0.980112\n",
      "(Epoch 7 / 10) train acc: 0.683000; val_acc: 0.620000\n",
      "(Iteration 701 / 950) loss: 0.852461\n",
      "(Iteration 751 / 950) loss: 0.837455\n",
      "(Epoch 8 / 10) train acc: 0.718000; val_acc: 0.640000\n",
      "(Iteration 801 / 950) loss: 0.857914\n",
      "(Iteration 851 / 950) loss: 0.865676\n",
      "(Epoch 9 / 10) train acc: 0.711000; val_acc: 0.631000\n",
      "(Iteration 901 / 950) loss: 0.776850\n",
      "(Epoch 10 / 10) train acc: 0.764000; val_acc: 0.654000\n",
      "Validation set accuracy: 0.654\n",
      "Test set accuracy: 0.66\n"
     ]
    }
   ],
   "source": [
    "# ================================================================ #\n",
    "# YOUR CODE HERE:\n",
    "#   Implement a CNN to achieve greater than 65% validation accuracy\n",
    "#   on CIFAR-10.\n",
    "# ================================================================ #\n",
    "\n",
    "model = ThreeLayerConvNet(weight_scale = 1e-3,hidden_dim = 500,reg = 0.001,num_filters = 64,filter_size = 3)\n",
    "solver = Solver(model, data,\n",
    "                num_epochs=10, batch_size=512,\n",
    "                update_rule='adam',\n",
    "                optim_config={\n",
    "                  'learning_rate': 1e-3,\n",
    "                },\n",
    "                lr_decay=0.99,verbose=True, print_every=50)\n",
    "solver.train()\n",
    "#print out the validation accuracy\n",
    "y_test_pred = np.argmax(model.loss(data['X_test']), axis=1)\n",
    "y_val_pred = np.argmax(model.loss(data['X_val']), axis=1)\n",
    "print('Validation set accuracy: {}'.format(np.mean(y_val_pred == data['y_val'])))\n",
    "print('Test set accuracy: {}'.format(np.mean(y_test_pred == data['y_test'])))\n",
    "# ================================================================ #\n",
    "# END YOUR CODE HERE\n",
    "# ================================================================ #\n"
   ]
  },
  {
   "cell_type": "code",
   "execution_count": null,
   "metadata": {},
   "outputs": [],
   "source": []
  }
 ],
 "metadata": {
  "kernelspec": {
   "display_name": "Python 3",
   "language": "python",
   "name": "python3"
  },
  "language_info": {
   "codemirror_mode": {
    "name": "ipython",
    "version": 3
   },
   "file_extension": ".py",
   "mimetype": "text/x-python",
   "name": "python",
   "nbconvert_exporter": "python",
   "pygments_lexer": "ipython3",
   "version": "3.6.7"
  },
  "varInspector": {
   "cols": {
    "lenName": 16,
    "lenType": 16,
    "lenVar": 40
   },
   "kernels_config": {
    "python": {
     "delete_cmd_postfix": "",
     "delete_cmd_prefix": "del ",
     "library": "var_list.py",
     "varRefreshCmd": "print(var_dic_list())"
    },
    "r": {
     "delete_cmd_postfix": ") ",
     "delete_cmd_prefix": "rm(",
     "library": "var_list.r",
     "varRefreshCmd": "cat(var_dic_list()) "
    }
   },
   "types_to_exclude": [
    "module",
    "function",
    "builtin_function_or_method",
    "instance",
    "_Feature"
   ],
   "window_display": true
  }
 },
 "nbformat": 4,
 "nbformat_minor": 2
}
